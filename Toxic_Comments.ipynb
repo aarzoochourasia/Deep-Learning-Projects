{
  "nbformat": 4,
  "nbformat_minor": 0,
  "metadata": {
    "colab": {
      "name": "Toxic_Comments.ipynb",
      "provenance": [],
      "collapsed_sections": [],
      "authorship_tag": "ABX9TyOTXVsm9jf4XLwg6dAoMEDe",
      "include_colab_link": true
    },
    "kernelspec": {
      "name": "python3",
      "display_name": "Python 3"
    },
    "accelerator": "GPU"
  },
  "cells": [
    {
      "cell_type": "markdown",
      "metadata": {
        "id": "view-in-github",
        "colab_type": "text"
      },
      "source": [
        "<a href=\"https://colab.research.google.com/github/aarzoochourasia/Deep-Learning-Projects/blob/master/Toxic_Comments.ipynb\" target=\"_parent\"><img src=\"https://colab.research.google.com/assets/colab-badge.svg\" alt=\"Open In Colab\"/></a>"
      ]
    },
    {
      "cell_type": "code",
      "metadata": {
        "id": "k7CfNNNSMSRz",
        "colab_type": "code",
        "colab": {
          "base_uri": "https://localhost:8080/",
          "height": 204
        },
        "outputId": "976385cd-3a07-4515-bf77-1da53a3a281f"
      },
      "source": [
        "!wget --header=\"Host: codeload.github.com\" --header=\"User-Agent: Mozilla/5.0 (Macintosh; Intel Mac OS X 10_14_6) AppleWebKit/537.36 (KHTML, like Gecko) Chrome/80.0.3987.87 Safari/537.36\" --header=\"Accept: text/html,application/xhtml+xml,application/xml;q=0.9,image/webp,image/apng,*/*;q=0.8,application/signed-exchange;v=b3;q=0.9\" --header=\"Accept-Language: en-US,en;q=0.9,hi;q=0.8\" --header=\"Referer: https://github.com/lazyprogrammer/machine_learning_examples\" --header=\"Cookie: _octo=GH1.1.1727593776.1577164843; _ga=GA1.2.1821570704.1577164845; logged_in=yes; dotcom_user=aarzoochourasia; _gat=1\" --header=\"Connection: keep-alive\" \"https://codeload.github.com/lazyprogrammer/machine_learning_examples/zip/master\" -O \"machine_learning_examples-master.zip\" -c"
      ],
      "execution_count": 6,
      "outputs": [
        {
          "output_type": "stream",
          "text": [
            "--2020-02-12 16:18:33--  https://codeload.github.com/lazyprogrammer/machine_learning_examples/zip/master\n",
            "Resolving codeload.github.com (codeload.github.com)... 192.30.253.120\n",
            "Connecting to codeload.github.com (codeload.github.com)|192.30.253.120|:443... connected.\n",
            "HTTP request sent, awaiting response... 200 OK\n",
            "Length: unspecified [application/zip]\n",
            "Saving to: ‘machine_learning_examples-master.zip’\n",
            "\n",
            "machine_learning_ex     [         <=>        ]  22.25M  8.85MB/s    in 2.5s    \n",
            "\n",
            "2020-02-12 16:18:41 (8.85 MB/s) - ‘machine_learning_examples-master.zip’ saved [23326099]\n",
            "\n"
          ],
          "name": "stdout"
        }
      ]
    },
    {
      "cell_type": "code",
      "metadata": {
        "id": "Xe4O8scFNJtA",
        "colab_type": "code",
        "colab": {
          "base_uri": "https://localhost:8080/",
          "height": 224
        },
        "outputId": "d81b0c7e-54fc-47ee-a589-6715bdcaee4f"
      },
      "source": [
        "!wget --header=\"Host: storage.googleapis.com\" --header=\"User-Agent: Mozilla/5.0 (Macintosh; Intel Mac OS X 10_14_6) AppleWebKit/537.36 (KHTML, like Gecko) Chrome/80.0.3987.87 Safari/537.36\" --header=\"Accept: text/html,application/xhtml+xml,application/xml;q=0.9,image/webp,image/apng,*/*;q=0.8,application/signed-exchange;v=b3;q=0.9\" --header=\"Accept-Language: en-US,en;q=0.9,hi;q=0.8\" --header=\"Referer: https://www.kaggle.com/\" \"https://storage.googleapis.com/kaggle-competitions-data/kaggle-v2/8076/44219/bundle/archive.zip?GoogleAccessId=web-data@kaggle-161607.iam.gserviceaccount.com&Expires=1581783674&Signature=KVaWpEZwriMr2%2BOMZhj7JkkbagzGf57ZYK5YPvzv1EUL%2FWkuaitjobnx595aStaEVgGbFrPQY%2BJmg8WKkLDnXfWkyMeZMnIXVg5SgmdllhaKfX6015IDHu2Hj0iDTfiAa8V7TZ256flHVULt8G1matnc2SR1o%2FVDM%2BFNYVr4IKO1pAtEfZpKwd2WTyiJctLJcltE45xMj%2BcrUVNqjCXKuNkdpuuxbmVSHMuDTz3ZghEruOolNWOdQ4j8%2B42KBaxEPEiwsxkJisDSAXQvhmv26wS9mDA%2FtI%2FN37AVqGnkrKksiP7igjXZTp93lSO7d874ClPd%2F3qAZxvK5Kidc1vOkA%3D%3D&response-content-disposition=attachment%3B+filename%3Djigsaw-toxic-comment-classification-challenge.zip\" -O \"jigsaw-toxic-comment-classification-challenge.zip\" -c"
      ],
      "execution_count": 8,
      "outputs": [
        {
          "output_type": "stream",
          "text": [
            "--2020-02-12 16:21:50--  https://storage.googleapis.com/kaggle-competitions-data/kaggle-v2/8076/44219/bundle/archive.zip?GoogleAccessId=web-data@kaggle-161607.iam.gserviceaccount.com&Expires=1581783674&Signature=KVaWpEZwriMr2%2BOMZhj7JkkbagzGf57ZYK5YPvzv1EUL%2FWkuaitjobnx595aStaEVgGbFrPQY%2BJmg8WKkLDnXfWkyMeZMnIXVg5SgmdllhaKfX6015IDHu2Hj0iDTfiAa8V7TZ256flHVULt8G1matnc2SR1o%2FVDM%2BFNYVr4IKO1pAtEfZpKwd2WTyiJctLJcltE45xMj%2BcrUVNqjCXKuNkdpuuxbmVSHMuDTz3ZghEruOolNWOdQ4j8%2B42KBaxEPEiwsxkJisDSAXQvhmv26wS9mDA%2FtI%2FN37AVqGnkrKksiP7igjXZTp93lSO7d874ClPd%2F3qAZxvK5Kidc1vOkA%3D%3D&response-content-disposition=attachment%3B+filename%3Djigsaw-toxic-comment-classification-challenge.zip\n",
            "Resolving storage.googleapis.com (storage.googleapis.com)... 108.177.119.128, 2a00:1450:4013:c04::80\n",
            "Connecting to storage.googleapis.com (storage.googleapis.com)|108.177.119.128|:443... connected.\n",
            "HTTP request sent, awaiting response... 200 OK\n",
            "Length: 55201987 (53M) [application/zip]\n",
            "Saving to: ‘jigsaw-toxic-comment-classification-challenge.zip’\n",
            "\n",
            "jigsaw-toxic-commen 100%[===================>]  52.64M  36.2MB/s    in 1.5s    \n",
            "\n",
            "2020-02-12 16:21:53 (36.2 MB/s) - ‘jigsaw-toxic-comment-classification-challenge.zip’ saved [55201987/55201987]\n",
            "\n"
          ],
          "name": "stdout"
        }
      ]
    },
    {
      "cell_type": "code",
      "metadata": {
        "id": "EEg6OjDCNYep",
        "colab_type": "code",
        "colab": {
          "base_uri": "https://localhost:8080/",
          "height": 204
        },
        "outputId": "14b86463-e8aa-4c22-cb51-75dc9dacb5df"
      },
      "source": [
        "!wget --header=\"Host: downloads.cs.stanford.edu\" --header=\"User-Agent: Mozilla/5.0 (Macintosh; Intel Mac OS X 10_14_6) AppleWebKit/537.36 (KHTML, like Gecko) Chrome/80.0.3987.87 Safari/537.36\" --header=\"Accept: text/html,application/xhtml+xml,application/xml;q=0.9,image/webp,image/apng,*/*;q=0.8,application/signed-exchange;v=b3;q=0.9\" --header=\"Accept-Language: en-US,en;q=0.9,hi;q=0.8\" --header=\"Cookie: _ga=GA1.2.531648139.1579525385; _mkto_trk=id:194-OCQ-487&token:_mch-stanford.edu-1581407781855-57361; _gid=GA1.2.534595588.1581524637; _gat=1\" --header=\"Connection: keep-alive\" \"http://downloads.cs.stanford.edu/nlp/data/glove.6B.zip\" -O \"glove.6B.zip\" -c"
      ],
      "execution_count": 9,
      "outputs": [
        {
          "output_type": "stream",
          "text": [
            "--2020-02-12 16:24:35--  http://downloads.cs.stanford.edu/nlp/data/glove.6B.zip\n",
            "Resolving downloads.cs.stanford.edu (downloads.cs.stanford.edu)... 171.64.64.22\n",
            "Connecting to downloads.cs.stanford.edu (downloads.cs.stanford.edu)|171.64.64.22|:80... connected.\n",
            "HTTP request sent, awaiting response... 200 OK\n",
            "Length: 862182613 (822M) [application/zip]\n",
            "Saving to: ‘glove.6B.zip’\n",
            "\n",
            "glove.6B.zip        100%[===================>] 822.24M  2.09MB/s    in 6m 30s  \n",
            "\n",
            "2020-02-12 16:31:05 (2.11 MB/s) - ‘glove.6B.zip’ saved [862182613/862182613]\n",
            "\n"
          ],
          "name": "stdout"
        }
      ]
    },
    {
      "cell_type": "code",
      "metadata": {
        "id": "nO0trbQKNV25",
        "colab_type": "code",
        "colab": {}
      },
      "source": [
        "import zipfile\n",
        "zip_ref = zipfile.ZipFile(\"glove.6B.zip\", 'r')\n",
        "zip_ref.extractall(\"glove\")\n",
        "zip_ref.close()"
      ],
      "execution_count": 0,
      "outputs": []
    },
    {
      "cell_type": "code",
      "metadata": {
        "id": "ZUaQ6Co9NV_Y",
        "colab_type": "code",
        "colab": {}
      },
      "source": [
        "import zipfile\n",
        "zip_ref = zipfile.ZipFile(\"jigsaw-toxic-comment-classification-challenge.zip\", 'r')\n",
        "zip_ref.extractall(\"toxic\")\n",
        "zip_ref.close()"
      ],
      "execution_count": 0,
      "outputs": []
    },
    {
      "cell_type": "code",
      "metadata": {
        "id": "g09mPar3Eb38",
        "colab_type": "code",
        "colab": {
          "base_uri": "https://localhost:8080/",
          "height": 34
        },
        "outputId": "0c716ad5-5396-49e6-fa89-097a235d9b7f"
      },
      "source": [
        "!sudo pip install future\n",
        "try:\n",
        "    import builtins\n",
        "except ImportError:\n",
        "    import __builtin__ as builtins\n",
        "from __future__ import print_function, division\n",
        "from builtins import range"
      ],
      "execution_count": 4,
      "outputs": [
        {
          "output_type": "stream",
          "text": [
            "Requirement already satisfied: future in /usr/local/lib/python3.6/dist-packages (0.16.0)\n"
          ],
          "name": "stdout"
        }
      ]
    },
    {
      "cell_type": "code",
      "metadata": {
        "id": "3DKZtJuQFX_1",
        "colab_type": "code",
        "colab": {}
      },
      "source": [
        "import os\n",
        "import sys\n",
        "import numpy as np\n",
        "import pandas as pd\n",
        "import matplotlib.pyplot as plt\n",
        "from keras_preprocessing.text import Tokenizer\n",
        "from keras_preprocessing.sequence import pad_sequences\n",
        "from keras.layers import Dense,Input,GlobalAveragePooling1D\n",
        "from keras.layers import Conv1D,MaxPooling1D,Embedding\n",
        "from sklearn.metrics import roc_auc_score\n",
        "from keras.models import Model"
      ],
      "execution_count": 0,
      "outputs": []
    },
    {
      "cell_type": "code",
      "metadata": {
        "id": "YjGaXtJvFYDD",
        "colab_type": "code",
        "colab": {}
      },
      "source": [
        "MAX_SEQUENCE_LENGTH = 100\n",
        "MAX_VOCAB_SIZE = 20000\n",
        "EMBEDDING_DIM = 100\n",
        "VALIDATION_SPLIT = 0.2\n",
        "BATCH_SIZE = 128\n",
        "EPOCHS = 10"
      ],
      "execution_count": 0,
      "outputs": []
    },
    {
      "cell_type": "code",
      "metadata": {
        "colab_type": "code",
        "id": "LBT2OEtyT_Y5",
        "colab": {
          "base_uri": "https://localhost:8080/",
          "height": 51
        },
        "outputId": "7dce7bdc-83a1-402b-cd18-083c5292d156"
      },
      "source": [
        "print ('Loading word vectors')\n",
        "word2vec = {}\n",
        "with open(os.path.join('glove/glove.6B.%sd.txt' % EMBEDDING_DIM)) as f:\n",
        "  for line in f:\n",
        "    values = line.split()\n",
        "    word = values[0]\n",
        "    vec = np.asarray(values[1:], dtype = 'float32')\n",
        "    word2vec[word] = vec\n",
        "print(len(word2vec))"
      ],
      "execution_count": 18,
      "outputs": [
        {
          "output_type": "stream",
          "text": [
            "Loading word vectors\n",
            "400000\n"
          ],
          "name": "stdout"
        }
      ]
    },
    {
      "cell_type": "code",
      "metadata": {
        "id": "PAWJlinFFYNT",
        "colab_type": "code",
        "colab": {
          "base_uri": "https://localhost:8080/",
          "height": 221
        },
        "outputId": "a9584331-e124-47ec-e2a5-1aafd6a1961e"
      },
      "source": [
        "#prepare text samples and their labels\n",
        "print('loading in comments')\n",
        "train = pd.read_csv('toxic/train.csv.zip')\n",
        "train.head()"
      ],
      "execution_count": 20,
      "outputs": [
        {
          "output_type": "stream",
          "text": [
            "loading in comments\n"
          ],
          "name": "stdout"
        },
        {
          "output_type": "execute_result",
          "data": {
            "text/html": [
              "<div>\n",
              "<style scoped>\n",
              "    .dataframe tbody tr th:only-of-type {\n",
              "        vertical-align: middle;\n",
              "    }\n",
              "\n",
              "    .dataframe tbody tr th {\n",
              "        vertical-align: top;\n",
              "    }\n",
              "\n",
              "    .dataframe thead th {\n",
              "        text-align: right;\n",
              "    }\n",
              "</style>\n",
              "<table border=\"1\" class=\"dataframe\">\n",
              "  <thead>\n",
              "    <tr style=\"text-align: right;\">\n",
              "      <th></th>\n",
              "      <th>id</th>\n",
              "      <th>comment_text</th>\n",
              "      <th>toxic</th>\n",
              "      <th>severe_toxic</th>\n",
              "      <th>obscene</th>\n",
              "      <th>threat</th>\n",
              "      <th>insult</th>\n",
              "      <th>identity_hate</th>\n",
              "    </tr>\n",
              "  </thead>\n",
              "  <tbody>\n",
              "    <tr>\n",
              "      <th>0</th>\n",
              "      <td>0000997932d777bf</td>\n",
              "      <td>Explanation\\nWhy the edits made under my usern...</td>\n",
              "      <td>0</td>\n",
              "      <td>0</td>\n",
              "      <td>0</td>\n",
              "      <td>0</td>\n",
              "      <td>0</td>\n",
              "      <td>0</td>\n",
              "    </tr>\n",
              "    <tr>\n",
              "      <th>1</th>\n",
              "      <td>000103f0d9cfb60f</td>\n",
              "      <td>D'aww! He matches this background colour I'm s...</td>\n",
              "      <td>0</td>\n",
              "      <td>0</td>\n",
              "      <td>0</td>\n",
              "      <td>0</td>\n",
              "      <td>0</td>\n",
              "      <td>0</td>\n",
              "    </tr>\n",
              "    <tr>\n",
              "      <th>2</th>\n",
              "      <td>000113f07ec002fd</td>\n",
              "      <td>Hey man, I'm really not trying to edit war. It...</td>\n",
              "      <td>0</td>\n",
              "      <td>0</td>\n",
              "      <td>0</td>\n",
              "      <td>0</td>\n",
              "      <td>0</td>\n",
              "      <td>0</td>\n",
              "    </tr>\n",
              "    <tr>\n",
              "      <th>3</th>\n",
              "      <td>0001b41b1c6bb37e</td>\n",
              "      <td>\"\\nMore\\nI can't make any real suggestions on ...</td>\n",
              "      <td>0</td>\n",
              "      <td>0</td>\n",
              "      <td>0</td>\n",
              "      <td>0</td>\n",
              "      <td>0</td>\n",
              "      <td>0</td>\n",
              "    </tr>\n",
              "    <tr>\n",
              "      <th>4</th>\n",
              "      <td>0001d958c54c6e35</td>\n",
              "      <td>You, sir, are my hero. Any chance you remember...</td>\n",
              "      <td>0</td>\n",
              "      <td>0</td>\n",
              "      <td>0</td>\n",
              "      <td>0</td>\n",
              "      <td>0</td>\n",
              "      <td>0</td>\n",
              "    </tr>\n",
              "  </tbody>\n",
              "</table>\n",
              "</div>"
            ],
            "text/plain": [
              "                 id  ... identity_hate\n",
              "0  0000997932d777bf  ...             0\n",
              "1  000103f0d9cfb60f  ...             0\n",
              "2  000113f07ec002fd  ...             0\n",
              "3  0001b41b1c6bb37e  ...             0\n",
              "4  0001d958c54c6e35  ...             0\n",
              "\n",
              "[5 rows x 8 columns]"
            ]
          },
          "metadata": {
            "tags": []
          },
          "execution_count": 20
        }
      ]
    },
    {
      "cell_type": "code",
      "metadata": {
        "id": "ymd1OCUwFYHR",
        "colab_type": "code",
        "colab": {}
      },
      "source": [
        "sentences = train['comment_text'].fillna('DUMMY_VALUE').values\n",
        "possible_labels = [\"toxic\",\"severe_toxic\",\"obscene\",\"threat\",\"insult\",\"identity_hate\"]\n",
        "targets = train[possible_labels].values"
      ],
      "execution_count": 0,
      "outputs": []
    },
    {
      "cell_type": "code",
      "metadata": {
        "id": "VZs1ltAXWxUC",
        "colab_type": "code",
        "colab": {
          "base_uri": "https://localhost:8080/",
          "height": 51
        },
        "outputId": "ab7f5efa-8ab6-45b0-e717-6585ef64a2f4"
      },
      "source": [
        "print(\"max sequence length:\", max(len(s) for s in sentences))\n",
        "print(\"min sequence length:\", min(len(s) for s in sentences))"
      ],
      "execution_count": 22,
      "outputs": [
        {
          "output_type": "stream",
          "text": [
            "max sequence length: 5000\n",
            "min sequence length: 6\n"
          ],
          "name": "stdout"
        }
      ]
    },
    {
      "cell_type": "code",
      "metadata": {
        "id": "JSErE1USWxfT",
        "colab_type": "code",
        "colab": {}
      },
      "source": [
        "tokenizer = Tokenizer(num_words = MAX_VOCAB_SIZE)\n",
        "tokenizer.fit_on_texts(sentences)\n",
        "sequences = tokenizer.texts_to_sequences(sentences)"
      ],
      "execution_count": 0,
      "outputs": []
    },
    {
      "cell_type": "code",
      "metadata": {
        "id": "-Be56DGPWxbh",
        "colab_type": "code",
        "colab": {}
      },
      "source": [
        "# get word -> integer mapping\n",
        "word2idx = tokenizer.word_index"
      ],
      "execution_count": 0,
      "outputs": []
    },
    {
      "cell_type": "code",
      "metadata": {
        "id": "WqAfg9gxWxXE",
        "colab_type": "code",
        "colab": {
          "base_uri": "https://localhost:8080/",
          "height": 34
        },
        "outputId": "d57fb0f7-9aef-4ba4-8857-b097b5303c0e"
      },
      "source": [
        "len(word2idx)"
      ],
      "execution_count": 27,
      "outputs": [
        {
          "output_type": "execute_result",
          "data": {
            "text/plain": [
              "210337"
            ]
          },
          "metadata": {
            "tags": []
          },
          "execution_count": 27
        }
      ]
    },
    {
      "cell_type": "code",
      "metadata": {
        "id": "r6ZszcAcXejq",
        "colab_type": "code",
        "colab": {}
      },
      "source": [
        "# pad sequences so that we get N x T matrix\n",
        "data = pad_sequences(sequences, maxlen=MAX_SEQUENCE_LENGTH)"
      ],
      "execution_count": 0,
      "outputs": []
    },
    {
      "cell_type": "code",
      "metadata": {
        "id": "J1-IaODFXetj",
        "colab_type": "code",
        "colab": {
          "base_uri": "https://localhost:8080/",
          "height": 34
        },
        "outputId": "d2983f77-06f4-4d33-d559-086d316f3af6"
      },
      "source": [
        "data.shape"
      ],
      "execution_count": 29,
      "outputs": [
        {
          "output_type": "execute_result",
          "data": {
            "text/plain": [
              "(159571, 100)"
            ]
          },
          "metadata": {
            "tags": []
          },
          "execution_count": 29
        }
      ]
    },
    {
      "cell_type": "code",
      "metadata": {
        "id": "_b15mXjfXer_",
        "colab_type": "code",
        "colab": {
          "base_uri": "https://localhost:8080/",
          "height": 136
        },
        "outputId": "169be805-baea-48d3-f1a6-7cec7067a3c2"
      },
      "source": [
        "data"
      ],
      "execution_count": 30,
      "outputs": [
        {
          "output_type": "execute_result",
          "data": {
            "text/plain": [
              "array([[    0,     0,     0, ...,  4583,  2273,   985],\n",
              "       [    0,     0,     0, ...,   589,  8377,   182],\n",
              "       [    0,     0,     0, ...,     1,   737,   468],\n",
              "       ...,\n",
              "       [    0,     0,     0, ...,  3509, 13675,  4528],\n",
              "       [    0,     0,     0, ...,   151,    34,    11],\n",
              "       [    0,     0,     0, ...,  1627,  2056,    88]], dtype=int32)"
            ]
          },
          "metadata": {
            "tags": []
          },
          "execution_count": 30
        }
      ]
    },
    {
      "cell_type": "code",
      "metadata": {
        "id": "eF-pd7DMXeqk",
        "colab_type": "code",
        "colab": {
          "base_uri": "https://localhost:8080/",
          "height": 34
        },
        "outputId": "86d76ed8-7feb-4b6f-ae52-1e36e9ed473b"
      },
      "source": [
        "# prepare our embedding matrix\n",
        "num_words = min(MAX_VOCAB_SIZE,len(word2idx)+1)\n",
        "num_words"
      ],
      "execution_count": 31,
      "outputs": [
        {
          "output_type": "execute_result",
          "data": {
            "text/plain": [
              "20000"
            ]
          },
          "metadata": {
            "tags": []
          },
          "execution_count": 31
        }
      ]
    },
    {
      "cell_type": "code",
      "metadata": {
        "id": "qzepiv--XenJ",
        "colab_type": "code",
        "colab": {}
      },
      "source": [
        "embedding_matrix = np.zeros((num_words,EMBEDDING_DIM))"
      ],
      "execution_count": 0,
      "outputs": []
    },
    {
      "cell_type": "code",
      "metadata": {
        "id": "ujfEhyCwYIlj",
        "colab_type": "code",
        "colab": {}
      },
      "source": [
        "for word, i in word2idx.items():\n",
        "  if i < MAX_VOCAB_SIZE:\n",
        "    embedding_vector = word2vec.get(word)\n",
        "    if embedding_vector is not None:\n",
        "      embedding_matrix[i] = embedding_vector"
      ],
      "execution_count": 0,
      "outputs": []
    },
    {
      "cell_type": "code",
      "metadata": {
        "id": "QLrkqgNoYIxW",
        "colab_type": "code",
        "colab": {
          "base_uri": "https://localhost:8080/",
          "height": 238
        },
        "outputId": "b464dbe4-3fc0-46d6-f0ef-77c294d87fcd"
      },
      "source": [
        "embedding_matrix"
      ],
      "execution_count": 34,
      "outputs": [
        {
          "output_type": "execute_result",
          "data": {
            "text/plain": [
              "array([[ 0.        ,  0.        ,  0.        , ...,  0.        ,\n",
              "         0.        ,  0.        ],\n",
              "       [-0.038194  , -0.24487001,  0.72812003, ..., -0.1459    ,\n",
              "         0.82779998,  0.27061999],\n",
              "       [-0.18970001,  0.050024  ,  0.19084001, ..., -0.39804   ,\n",
              "         0.47646999, -0.15983   ],\n",
              "       ...,\n",
              "       [-1.04809999, -0.32789999, -0.46593001, ..., -0.065447  ,\n",
              "        -0.13019   ,  0.44433001],\n",
              "       [ 0.089782  , -0.33164999, -0.85716999, ..., -0.15765999,\n",
              "        -0.58174002,  0.036233  ],\n",
              "       [ 0.051446  , -0.43564001,  0.26989001, ...,  0.39087   ,\n",
              "        -0.14459001, -0.72372001]])"
            ]
          },
          "metadata": {
            "tags": []
          },
          "execution_count": 34
        }
      ]
    },
    {
      "cell_type": "code",
      "metadata": {
        "id": "weSqp-iuYIp3",
        "colab_type": "code",
        "colab": {
          "base_uri": "https://localhost:8080/",
          "height": 71
        },
        "outputId": "a57cc44d-c425-4f18-f6f9-99a70909e057"
      },
      "source": [
        "embedding_layer = Embedding(num_words,EMBEDDING_DIM,\n",
        "                           weights = [embedding_matrix],\n",
        "                           input_length = MAX_SEQUENCE_LENGTH,\n",
        "                           trainable=False)"
      ],
      "execution_count": 35,
      "outputs": [
        {
          "output_type": "stream",
          "text": [
            "WARNING:tensorflow:From /usr/local/lib/python3.6/dist-packages/keras/backend/tensorflow_backend.py:66: The name tf.get_default_graph is deprecated. Please use tf.compat.v1.get_default_graph instead.\n",
            "\n"
          ],
          "name": "stdout"
        }
      ]
    },
    {
      "cell_type": "code",
      "metadata": {
        "id": "twPsRCA9YXTz",
        "colab_type": "code",
        "colab": {
          "base_uri": "https://localhost:8080/",
          "height": 462
        },
        "outputId": "b84b04d8-2e73-4e18-d6c8-7a28a2e5d2cc"
      },
      "source": [
        "input_ = Input(shape=(MAX_SEQUENCE_LENGTH,))\n",
        "x = embedding_layer(input_)\n",
        "x = Conv1D(128,3,activation=\"relu\")(x)\n",
        "x = MaxPooling1D(3)(x)\n",
        "x = Conv1D(128,3,activation=\"relu\")(x)\n",
        "x = MaxPooling1D(3)(x)\n",
        "x = Conv1D(128,3,activation=\"relu\")(x)\n",
        "x = GlobalAveragePooling1D()(x)\n",
        "x = Dense(128,activation=\"relu\")(x)\n",
        "\n",
        "output = Dense(len(possible_labels),activation=\"sigmoid\")(x)\n",
        "\n",
        "model = Model(input_,output)\n",
        "\n",
        "model.compile(loss=\"binary_crossentropy\",\n",
        "             optimizer=\"rmsprop\",\n",
        "             metrics=[\"accuracy\"])\n",
        "\n",
        "r = model.fit(data,targets,batch_size=BATCH_SIZE,epochs=EPOCHS,validation_split=VALIDATION_SPLIT)"
      ],
      "execution_count": 40,
      "outputs": [
        {
          "output_type": "stream",
          "text": [
            "WARNING:tensorflow:From /usr/local/lib/python3.6/dist-packages/keras/backend/tensorflow_backend.py:1033: The name tf.assign_add is deprecated. Please use tf.compat.v1.assign_add instead.\n",
            "\n",
            "WARNING:tensorflow:From /usr/local/lib/python3.6/dist-packages/keras/backend/tensorflow_backend.py:1020: The name tf.assign is deprecated. Please use tf.compat.v1.assign instead.\n",
            "\n",
            "Train on 127656 samples, validate on 31915 samples\n",
            "Epoch 1/10\n",
            "127656/127656 [==============================] - 13s 99us/step - loss: 0.0876 - acc: 0.9725 - val_loss: 0.0877 - val_acc: 0.9735\n",
            "Epoch 2/10\n",
            "127656/127656 [==============================] - 6s 47us/step - loss: 0.0684 - acc: 0.9772 - val_loss: 0.0708 - val_acc: 0.9774\n",
            "Epoch 3/10\n",
            "127656/127656 [==============================] - 6s 47us/step - loss: 0.0640 - acc: 0.9784 - val_loss: 0.0680 - val_acc: 0.9767\n",
            "Epoch 4/10\n",
            "127656/127656 [==============================] - 6s 47us/step - loss: 0.0605 - acc: 0.9790 - val_loss: 0.0678 - val_acc: 0.9776\n",
            "Epoch 5/10\n",
            "127656/127656 [==============================] - 6s 47us/step - loss: 0.0578 - acc: 0.9799 - val_loss: 0.0719 - val_acc: 0.9779\n",
            "Epoch 6/10\n",
            "127656/127656 [==============================] - 6s 47us/step - loss: 0.0554 - acc: 0.9805 - val_loss: 0.0776 - val_acc: 0.9771\n",
            "Epoch 7/10\n",
            "127656/127656 [==============================] - 6s 47us/step - loss: 0.0531 - acc: 0.9812 - val_loss: 0.0685 - val_acc: 0.9777\n",
            "Epoch 8/10\n",
            "127656/127656 [==============================] - 6s 47us/step - loss: 0.0511 - acc: 0.9816 - val_loss: 0.0722 - val_acc: 0.9754\n",
            "Epoch 9/10\n",
            "127656/127656 [==============================] - 6s 47us/step - loss: 0.0496 - acc: 0.9822 - val_loss: 0.0918 - val_acc: 0.9720\n",
            "Epoch 10/10\n",
            "127656/127656 [==============================] - 6s 46us/step - loss: 0.0480 - acc: 0.9827 - val_loss: 0.0735 - val_acc: 0.9762\n"
          ],
          "name": "stdout"
        }
      ]
    },
    {
      "cell_type": "code",
      "metadata": {
        "id": "XXxZvVvaYXfR",
        "colab_type": "code",
        "colab": {}
      },
      "source": [
        "p = model.predict(data)"
      ],
      "execution_count": 0,
      "outputs": []
    },
    {
      "cell_type": "code",
      "metadata": {
        "id": "shtIjtj0YXdJ",
        "colab_type": "code",
        "colab": {
          "base_uri": "https://localhost:8080/",
          "height": 34
        },
        "outputId": "c7c857ea-8e5f-42ba-a478-67d2dc5a8453"
      },
      "source": [
        "aucs = []\n",
        "for j in range(6):\n",
        "  auc = roc_auc_score(targets[:,j],p[:,j])\n",
        "  aucs.append(auc)\n",
        "print(np.mean(aucs))"
      ],
      "execution_count": 43,
      "outputs": [
        {
          "output_type": "stream",
          "text": [
            "0.9781195401692969\n"
          ],
          "name": "stdout"
        }
      ]
    },
    {
      "cell_type": "code",
      "metadata": {
        "id": "q3AFkoxhYXa3",
        "colab_type": "code",
        "colab": {}
      },
      "source": [
        ""
      ],
      "execution_count": 0,
      "outputs": []
    },
    {
      "cell_type": "code",
      "metadata": {
        "id": "f6SeXVuMYXXq",
        "colab_type": "code",
        "colab": {}
      },
      "source": [
        ""
      ],
      "execution_count": 0,
      "outputs": []
    }
  ]
}